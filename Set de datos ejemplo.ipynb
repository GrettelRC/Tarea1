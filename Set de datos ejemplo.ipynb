{
 "cells": [
  {
   "cell_type": "code",
   "execution_count": 3,
   "metadata": {},
   "outputs": [],
   "source": [
    "import pandas as pd\n",
    "\n",
    "# Load the dataset\n",
    "df = pd.read_csv(\"existingproductattributes2017.csv\", header=0)"
   ]
  },
  {
   "cell_type": "code",
   "execution_count": 4,
   "metadata": {},
   "outputs": [
    {
     "name": "stdout",
     "output_type": "stream",
     "text": [
      "<class 'pandas.core.frame.DataFrame'>\n",
      "RangeIndex: 80 entries, 0 to 79\n",
      "Data columns (total 18 columns):\n",
      " #   Column                 Non-Null Count  Dtype  \n",
      "---  ------                 --------------  -----  \n",
      " 0   ProductType            80 non-null     object \n",
      " 1   ProductNum             80 non-null     int64  \n",
      " 2   Price                  80 non-null     float64\n",
      " 3   x5StarReviews          80 non-null     int64  \n",
      " 4   x4StarReviews          80 non-null     int64  \n",
      " 5   x3StarReviews          80 non-null     int64  \n",
      " 6   x2StarReviews          80 non-null     int64  \n",
      " 7   x1StarReviews          80 non-null     int64  \n",
      " 8   PositiveServiceReview  80 non-null     int64  \n",
      " 9   NegativeServiceReview  80 non-null     int64  \n",
      " 10  Recommendproduct       80 non-null     float64\n",
      " 11  BestSellersRank        65 non-null     float64\n",
      " 12  ShippingWeight         80 non-null     float64\n",
      " 13  ProductDepth           80 non-null     float64\n",
      " 14  ProductWidth           80 non-null     float64\n",
      " 15  ProductHeight          80 non-null     float64\n",
      " 16  ProfitMargin           80 non-null     float64\n",
      " 17  Volume                 80 non-null     int64  \n",
      "dtypes: float64(8), int64(9), object(1)\n",
      "memory usage: 11.0+ KB\n",
      "None\n"
     ]
    }
   ],
   "source": [
    "print(df.info())"
   ]
  },
  {
   "cell_type": "code",
   "execution_count": null,
   "metadata": {},
   "outputs": [],
   "source": []
  }
 ],
 "metadata": {
  "kernelspec": {
   "display_name": "Python 3",
   "language": "python",
   "name": "python3"
  },
  "language_info": {
   "codemirror_mode": {
    "name": "ipython",
    "version": 3
   },
   "file_extension": ".py",
   "mimetype": "text/x-python",
   "name": "python",
   "nbconvert_exporter": "python",
   "pygments_lexer": "ipython3",
   "version": "3.8.1"
  }
 },
 "nbformat": 4,
 "nbformat_minor": 4
}
